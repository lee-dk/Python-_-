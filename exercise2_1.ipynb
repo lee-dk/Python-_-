{
 "cells": [
  {
   "cell_type": "code",
   "execution_count": null,
   "metadata": {},
   "outputs": [],
   "source": [
    "import urllib.request\n",
    "from bs4 import BeautifulSoup\n",
    "import re\n",
    "url = \"http://unico2013.dothome.co.kr/crawling/exercise_bs.html\" \n",
    "html = urllib.request.urlopen(url)\n",
    "bs = BeautifulSoup(html.read().decode('utf-8'), \"html.parser\")\n",
    "#bs = BeautifulSoup(html, \"html.parser\")\n",
    "print('[<h1> 태그의 컨텐트] ', bs.h1.text)\n",
    "print('[텍스트 형식으로 내용을 가지고 있는 <a> 태그의 컨텐트와 href 속성값] ',)\n",
    "aTag = bs.find_all('a')\n",
    "for tag in aTag:\n",
    "    if(tag.text.strip()):\n",
    "        print(tag.text, ' : ', tag['href'])\n",
    "print('[<img> 태그의 src 속성값] ',bs.img['src'])\n",
    "print('[첫 번째 <h2> 태그의 컨텐트] ',bs.h2.text)\n",
    "print('[<ul> 태그의 자식 태그들중 style 속성의 값이 green으로 끝나는 태그의 컨텐트] ',bs.ul.find(style=re.compile(\"green$\")).text)\n",
    "print('[두 번째 <h2> 태그의 컨텐트] ',bs.find_all('h2')[1].text)\n",
    "print('[<ol> 태그의 모든 자식 태그들의 컨텐트 ]')\n",
    "olTag = bs.find(\"ol\")\n",
    "olliTag = olTag.find_all(\"li\")\n",
    "for tag in olliTag:\n",
    "    print(tag.text)\n",
    "print('[<table> 태그의 모든 자손 태그들의 컨텐트 ]')\n",
    "print(bs.table.text.strip())\n",
    "tableTag = bs.table\n",
    "print('[name이라는 클래스 속성을 갖는 <tr> 태그의 컨텐트] ',tableTag.find(\"tr\", class_=\"name\").text)\n",
    "print('[target이라는 아이디 속성을 갖는 <td> 태그의 컨텐트] ',bs.find(\"td\", id='target').text)"
   ]
  },
  {
   "cell_type": "code",
   "execution_count": null,
   "metadata": {},
   "outputs": [],
   "source": [
    "import urllib.request\n",
    "from bs4 import BeautifulSoup\n",
    "url = \"http://unico2013.dothome.co.kr/crawling/exercise_bs.html\" \n",
    "html = urllib.request.urlopen(url)\n",
    "bs = BeautifulSoup(html, \"html.parser\")\n",
    "print('[<h1> 태그의 컨텐트] ', bs.select('h1')[0].text)\n",
    "print('[텍스트 형식으로 내용을 가지고 있는 <a> 태그의 컨텐트와 href 속성값] ',)\n",
    "aTag = bs.select('a')\n",
    "for tag in aTag:\n",
    "    if(tag.text.strip()):\n",
    "        print(tag.text, ' : ', tag['href'])\n",
    "print('[<img> 태그의 src 속성값] ',bs.select('img')[0]['src'])\n",
    "print('[첫 번째 <h2> 태그의 컨텐트] ',bs.select('h2:nth-of-type(1)')[0].text)\n",
    "print('[<ul> 태그의 자식 태그들중 style 속성의 값이 green으로 끝나는 태그의 컨텐트] ',bs.select('ul>li[style$=green]')[0].text)\n",
    "print('[두] 번째 <h2> 태그의 컨텐트] ',bs.select('h2:nth-of-type(2)')[0].text)\n",
    "print('[<ol> 태그의 모든 자식 태그들의 컨텐트 ]')\n",
    "olliTag = bs.select('ol>li')\n",
    "for tag in olliTag:\n",
    "    print(tag.text)\n",
    "print('[<table> 태그의 모든 자손 태그들의 컨텐트 ]')\n",
    "print(bs.select('table')[0].text.strip())\n",
    "print('[name이라는 클래스 속성을 갖는 <tr> 태그의 컨텐트] ',bs.select('tr.name')[0].text)\n",
    "print('[target이라는 아이디 속성을 갖는 <td> 태그의 컨텐트] ',bs.select('td#target')[0].text)"
   ]
  },
  {
   "cell_type": "code",
   "execution_count": null,
   "metadata": {},
   "outputs": [],
   "source": [
    "import requests\n",
    "from bs4 import BeautifulSoup\n",
    "import re\n",
    "urlstr = 'http://unico2013.dothome.co.kr/crawling/exercise_bs.html'\n",
    "r = requests.get(urlstr)\n",
    "r.encoding = 'utf-8'\n",
    "html_doc = r.text\n",
    "# print(html_doc)\n",
    "bs = BeautifulSoup(html_doc, 'html.parser')\n",
    "print(\"[<h1> 태그의 콘텐츠]\", bs.find('h1').text)\n",
    "print(\"[텍스트 형식으로 내용을 가지고 있는 <a> 태그의 콘텐츠와 href 속성값]\")\n",
    "# atags = bs.find_all('a', len(text)>0)\n",
    "atags = bs.find_all('a')\n",
    "for atag in atags :\n",
    "    if atag.string != None :\n",
    "        print(atag.string, \":\", atag['href'])\n",
    "\n",
    "print(\"[<img> 태그의 src 속성값]\", bs.img['src'])\n",
    "print(\"[첫 번째 <h2> 태그의 콘텐츠]\", bs.h2.text)\n",
    "print(\"[<ul> 태그의 자식 태그들 중 style 속성의 값이 green으로 끝나는 태그의 콘텐츠]\")\n",
    "print(bs.find('ul').find_all('li', attrs={'style':re.compile(\"green$\")})[0].text )\n",
    "print(\"[두 번째 <h2> 태그의 콘텐츠]\", bs.find_all('h2')[1].text)\n",
    "print(\"[<ol> 태그의 모든 자식 태그들의 콘텐츠]\")\n",
    "for tg in bs.find('ol').find_all('li') :\n",
    "    print (tg.text)\n",
    "print(\"[<table> 태그의 모든 자손 태그들의 콘텐츠]\")\n",
    "for tg in bs.find('table').find_all('tr') :\n",
    "    print (tg.text)\n",
    "print(\"[name이라는 클래스 속성을 갖는 <tr> 태그의 콘텐츠]\", bs.find('tr', class_=\"name\").text)\n",
    "print(\"[target이라는 아이디 속성을 갖는 <td> 태그의 콘텐츠]\", bs.find('td', id='target').text)"
   ]
  }
 ],
 "metadata": {
  "kernelspec": {
   "display_name": "pydatavenv",
   "language": "python",
   "name": "pydatavenv"
  },
  "language_info": {
   "codemirror_mode": {
    "name": "ipython",
    "version": 3
   },
   "file_extension": ".py",
   "mimetype": "text/x-python",
   "name": "python",
   "nbconvert_exporter": "python",
   "pygments_lexer": "ipython3",
   "version": "3.8.3"
  }
 },
 "nbformat": 4,
 "nbformat_minor": 4
}
