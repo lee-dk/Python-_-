{
 "cells": [
  {
   "cell_type": "code",
   "execution_count": 128,
   "metadata": {},
   "outputs": [
    {
     "name": "stdout",
     "output_type": "stream",
     "text": [
      "[<h1>태그의 컨텐트] HTML의 링크 태그 \n",
      "[텍스트 형식으로 내용을 가지고있는 <a> 태그의 컨텐트와 href 속성값]\n",
      "World Wide Consortium  :  http://www.w3.org/\n",
      "Java Page  :  http://java.sun.com/\n",
      "Python Page  :  http://www.python.org/\n",
      "Web Client 기술 학습  :  http://www.w3schools.com/\n",
      "None  :  http://java.sun.com/\n",
      "[<img>태그의 컨텐트] http://unico2013.dothome.co.kr/image/duke.jpg \n",
      "[첫번째 <h2>태그의 컨텐트] 좋아하는 색 \n",
      "[<ul>태그의 자식태그들 중 style 속성의 값이 green으로 끝나는 태그의 컨텐트]  녹색\n",
      "------------------------------\n",
      "------------------------------\n"
     ]
    }
   ],
   "source": [
    "import urllib.request\n",
    "from bs4 import BeautifulSoup\n",
    "import re\n",
    "url = \"http://unico2013.dothome.co.kr/crawling/exercise_bs.html\" \n",
    "html = urllib.request.urlopen(url)\n",
    "bs = BeautifulSoup(html.read().decode('utf-8'), \"html.parser\")\n",
    "#bs = BeautifulSoup(html, \"html.parser\")\n",
    "print('[<h1> 태그의 컨텐트] ', bs.h1.text)\n",
    "print('[텍스트 형식으로 내용을 가지고 있는 <a> 태그의 컨텐트와 href 속성값] ',)\n",
    "aTag = bs.find_all('a')\n",
    "for tag in aTag:\n",
    "    if(tag.text.strip()):\n",
    "        print(tag.text, ' : ', tag['href'])\n",
    "print('[<img> 태그의 src 속성값] ',bs.img['src'])\n",
    "print('[첫 번째 <h2> 태그의 컨텐트] ',bs.h2.text)\n",
    "print('[<ul> 태그의 자식 태그들중 style 속성의 값이 green으로 끝나는 태그의 컨텐트] ',bs.ul.find(style=re.compile(\"green$\")).text)\n",
    "print('[두 번째 <h2> 태그의 컨텐트] ',bs.find_all('h2')[1].text)\n",
    "print('[<ol> 태그의 모든 자식 태그들의 컨텐트 ]')\n",
    "olTag = bs.find(\"ol\")\n",
    "olliTag = olTag.find_all(\"li\")\n",
    "for tag in olliTag:\n",
    "    print(tag.text)\n",
    "print('[<table> 태그의 모든 자손 태그들의 컨텐트 ]')\n",
    "print(bs.table.text.strip())\n",
    "tableTag = bs.table\n",
    "print('[name이라는 클래스 속성을 갖는 <tr> 태그의 컨텐트] ',tableTag.find(\"tr\", class_=\"name\").text)\n",
    "print('[target이라는 아이디 속성을 갖는 <td> 태그의 컨텐트] ',bs.find(\"td\", id='target').text)\n"
   ]
  }
 ],
 "metadata": {
  "kernelspec": {
   "display_name": "pydatavenv",
   "language": "python",
   "name": "pydatavenv"
  },
  "language_info": {
   "codemirror_mode": {
    "name": "ipython",
    "version": 3
   },
   "file_extension": ".py",
   "mimetype": "text/x-python",
   "name": "python",
   "nbconvert_exporter": "python",
   "pygments_lexer": "ipython3",
   "version": "3.8.3"
  }
 },
 "nbformat": 4,
 "nbformat_minor": 4
}
