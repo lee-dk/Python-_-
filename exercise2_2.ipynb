{
 "cells": [
  {
   "cell_type": "code",
   "execution_count": null,
   "metadata": {},
   "outputs": [],
   "source": [
    "import requests\n",
    "from bs4 import BeautifulSoup\n",
    "title = []\n",
    "name = []\n",
    "urlstr = 'http://media.daum.net/ranking/popular/'\n",
    "r = requests.get(urlstr)\n",
    "r.encoding = \"utf-8\"\n",
    "bs = BeautifulSoup(r.text, 'html.parser')\n",
    "titleList = bs.select('.rank_news>ul>li>.cont_thumb>strong>a')\n",
    "nameList = bs.select('div.cont_thumb > strong > span')\n",
    "\n",
    "for titleDom in titleList:\n",
    "\ttitle.append(titleDom.string)\n",
    "for nameDom in nameList:\n",
    "\tname.append(nameDom.string)\n",
    "\n",
    "print('뉴스제목--------------')\n",
    "print(title)\n",
    "print(len(title))\n",
    "\n",
    "print('뉴스이름--------------')\n",
    "print(name)\n",
    "print(len(name))\n",
    "\n",
    "with open('C:/Temp/news.csv', \"wt\", encoding=\"utf-8\") as f:\n",
    "    f.write('newstitle,newscomname\\n')  \n",
    "    for i in range(len(title)):\n",
    "        f.write('\"'+title[i]+'\",'+name[i]+'\\n') "
   ]
  }
 ],
 "metadata": {
  "kernelspec": {
   "display_name": "pydatavenv",
   "language": "python",
   "name": "pydatavenv"
  },
  "language_info": {
   "codemirror_mode": {
    "name": "ipython",
    "version": 3
   },
   "file_extension": ".py",
   "mimetype": "text/x-python",
   "name": "python",
   "nbconvert_exporter": "python",
   "pygments_lexer": "ipython3",
   "version": "3.8.3"
  }
 },
 "nbformat": 4,
 "nbformat_minor": 4
}
