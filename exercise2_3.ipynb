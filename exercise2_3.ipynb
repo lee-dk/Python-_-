{
 "cells": [
  {
   "cell_type": "code",
   "execution_count": 13,
   "metadata": {},
   "outputs": [],
   "source": [
    "import requests\n",
    "from bs4 import BeautifulSoup\n",
    "import re\n",
    "n = 1\n",
    "while True:\n",
    "    req = requests.get('https://movie.daum.net/moviedb/grade?movieId=131704&type=netizen&page='+str(n))\n",
    "    html = req.text\n",
    "    soup = BeautifulSoup(html, 'html5lib')\n",
    "    points = soup.select('div.raking_grade > em')\n",
    "    reviews = soup.select('div.main_detail > ul > li > div > p')\n",
    "    if len(points) == 0 :\n",
    "        break\n",
    "\n",
    "    movie_point = []\n",
    "    movie_review = [] \n",
    "\n",
    "    for dom in points:\n",
    "        movie_point.append(dom.text)\n",
    "\n",
    "    for dom in reviews:\n",
    "        content=dom.text.strip()\n",
    "        content=re.sub(\"[\\n\\t]\", ' ', content)\n",
    "        movie_review.append(content)\n",
    "\n",
    "        \n",
    "    commentLength = len(movie_point)   \n",
    "    for i in range(commentLength):\n",
    "        print(movie_point[i] + \",\"+movie_review[i]) \n",
    "    n += 1"
   ]
  }
 ],
 "metadata": {
  "kernelspec": {
   "display_name": "pydatavenv",
   "language": "python",
   "name": "pydatavenv"
  },
  "language_info": {
   "codemirror_mode": {
    "name": "ipython",
    "version": 3
   },
   "file_extension": ".py",
   "mimetype": "text/x-python",
   "name": "python",
   "nbconvert_exporter": "python",
   "pygments_lexer": "ipython3",
   "version": "3.8.3"
  }
 },
 "nbformat": 4,
 "nbformat_minor": 4
}
