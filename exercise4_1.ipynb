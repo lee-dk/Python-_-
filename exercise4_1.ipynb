{
 "cells": [
  {
   "cell_type": "code",
   "execution_count": null,
   "metadata": {},
   "outputs": [],
   "source": [
    "# 함수버전\n",
    "import urllib.request\n",
    "import json\n",
    "from bs4 import BeautifulSoup \n",
    "\n",
    "def naver_search (keyword, callType = 'JSON') :\n",
    "    client_key = 'izGsqP2exeThwwEUVU3x'\n",
    "    client_secret = 'WrwbQ1l6ZI'\n",
    "    query = keyword\n",
    "\n",
    "    encText = urllib.parse.quote_plus(query)\n",
    "    num = 5\n",
    "    if callType == 'JSON' :\n",
    "        urlhead = 'https://openapi.naver.com/v1/search/local.json?query='\n",
    "    elif callType == 'XML' :\n",
    "        urlhead = 'https://openapi.naver.com/v1/search/local.xml?query='\n",
    "    else :\n",
    "        print('JSON or XML only')\n",
    "        return   \n",
    "\n",
    "    naver_url = urlhead + encText + '&display=' + str(num)\n",
    "    request = urllib.request.Request(naver_url)\n",
    "    request.add_header(\"X-Naver-Client-Id\",client_key)\n",
    "    request.add_header(\"X-Naver-Client-Secret\",client_secret)\n",
    "    response = urllib.request.urlopen(request)\n",
    "    rescode = response.getcode() \n",
    "\n",
    "    if(rescode == 200):\n",
    "        response_body = response.read()\n",
    "        count = 1     \n",
    "        if callType == 'JSON' :\n",
    "            dataList = json.loads(response_body)\n",
    "            print('[' + query + '집에 대한 네이버 지역 정보(JSON)]')\n",
    "            for data in dataList['items'] :\n",
    "                print (str(count) + ' : ' + data['title'] + ',' + data['telephone'] + ',' + data['address'])\n",
    "                count += 1\n",
    "\n",
    "        elif callType == 'XML' :\n",
    "            xmlsoup = BeautifulSoup(response_body, 'xml')\n",
    "            items = xmlsoup.find_all('item')\n",
    "            print('[' + query + '집에 대한 네이버 지역 정보(XML)]')\n",
    "            for data in items:\n",
    "                print (str(count) + ' : ' + data.title.string + ',' +\n",
    "                       ('없음' if data.telephone.string == None else data.telephone.string) + \n",
    "                       ',' + data.address.string)\n",
    "                count += 1\n",
    "    else:\n",
    "        print('오류 코드 : ' + rescode)"
   ]
  },
  {
   "cell_type": "code",
   "execution_count": null,
   "metadata": {},
   "outputs": [],
   "source": [
    "naver_search('짜장면', 'XML')"
   ]
  },
  {
   "cell_type": "code",
   "execution_count": null,
   "metadata": {},
   "outputs": [],
   "source": [
    "naver_search('쌀국수', 'JSON')"
   ]
  },
  {
   "cell_type": "code",
   "execution_count": null,
   "metadata": {},
   "outputs": [],
   "source": [
    "# XML버전\n",
    "import urllib.request\n",
    "from bs4 import BeautifulSoup \n",
    "\n",
    "client_key = 'izGsqP2exeThwwEUVU3x'\n",
    "client_secret = 'WrwbQ1l6ZI'\n",
    "query = '쌀국수'\n",
    "encText = urllib.parse.quote_plus(query)\n",
    "num = 5\n",
    "naver_url = 'https://openapi.naver.com/v1/search/local.xml?query=' + encText + '&display=' + str(num)\n",
    "request = urllib.request.Request(naver_url)\n",
    "request.add_header(\"X-Naver-Client-Id\",client_key)\n",
    "request.add_header(\"X-Naver-Client-Secret\",client_secret)\n",
    "response = urllib.request.urlopen(request)\n",
    "rescode = response.getcode()\n",
    "\n",
    "if(rescode == 200):\n",
    "    response_body = response.read()\n",
    "    xmlsoup = BeautifulSoup(response_body, 'xml')\n",
    "    items = xmlsoup.find_all('item')\n",
    "    count = 1\n",
    "    print('[' + query + '집에 대한 네이버 지역 정보(XML)]')\n",
    "    for data in items:\n",
    "        print (str(count) + ' : ' + data.title.string + ',' + ('없음' if data.telephone.string == None else data.telephone.string) + ',' + data.address.string)\n",
    "        count += 1\n",
    "else:\n",
    "    print('오류 코드 : ' + rescode)"
   ]
  },
  {
   "cell_type": "code",
   "execution_count": null,
   "metadata": {},
   "outputs": [],
   "source": [
    "# JSON 버전\n",
    "import urllib.request\n",
    "import json\n",
    "client_key = 'izGsqP2exeThwwEUVU3x'\n",
    "client_secret = 'WrwbQ1l6ZI'\n",
    "query = '쌀국수'\n",
    "encText = urllib.parse.quote_plus(query)\n",
    "num = 5\n",
    "naver_url = 'https://openapi.naver.com/v1/search/local.json?query=' + encText + '&display=' + str(num)\n",
    "request = urllib.request.Request(naver_url)\n",
    "request.add_header(\"X-Naver-Client-Id\",client_key)\n",
    "request.add_header(\"X-Naver-Client-Secret\",client_secret)\n",
    "response = urllib.request.urlopen(request)\n",
    "rescode = response.getcode()\n",
    "\n",
    "if(rescode == 200):\n",
    "    response_body = response.read()\n",
    "    dataList = json.loads(response_body)\n",
    "    count = 1\n",
    "    print('[' + query + '집에 대한 네이버 지역 정보(JSON)]')\n",
    "    for data in dataList['items'] :\n",
    "        print (str(count) + ' : ' + data['title'] + ',' + data['telephone'] + ',' + data['address'])\n",
    "        count += 1\n",
    "else:\n",
    "    print('오류 코드 : ' + rescode)"
   ]
  }
 ],
 "metadata": {
  "kernelspec": {
   "display_name": "pydatavenv",
   "language": "python",
   "name": "pydatavenv"
  },
  "language_info": {
   "codemirror_mode": {
    "name": "ipython",
    "version": 3
   },
   "file_extension": ".py",
   "mimetype": "text/x-python",
   "name": "python",
   "nbconvert_exporter": "python",
   "pygments_lexer": "ipython3",
   "version": "3.8.3"
  }
 },
 "nbformat": 4,
 "nbformat_minor": 4
}
