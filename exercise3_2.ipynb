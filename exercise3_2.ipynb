{
 "cells": [
  {
   "cell_type": "code",
   "execution_count": null,
   "metadata": {},
   "outputs": [],
   "source": [
    "#네이버 호텔 페이지에서의 모든 댓글들을 추출하는 기능을 동적 크롤링으로 구현해 본다\n",
    "from selenium import webdriver\n",
    "driver = webdriver.Chrome('c:/Temp/chromedriver')\n",
    "driver.implicitly_wait(6) \n",
    "driver.get('https://hotel.naver.com/hotels/item?hotelId=hotel:Shilla_Stay_Yeoksam&destination_kor=%EC%8B%A0%EB%9D%BC%EC%8A%A4%ED%85%8C%EC%9D%B4%20%EC%97%AD%EC%82%BC&rooms=2')\n",
    "import time\n",
    "time.sleep(4)\n",
    "\n",
    "review_list = []\n",
    "\n",
    "while True:\n",
    "    for i in range(4):\n",
    "        review = driver.find_element_by_css_selector(\"div.review_ta.ng-scope > ul > li:nth-child(\" + str(i+1) + \") > div.review_desc > p\")\n",
    "        review.click()\n",
    "        \n",
    "    reviews = driver.find_elements_by_css_selector(\"div.review_desc > p\")\n",
    "    time.sleep(1)\n",
    "    for review in reviews:\n",
    "        review_list.append(review.text)\n",
    "    next_page = driver.find_element_by_css_selector(\"div.review_ta.ng-scope > div.paginate > a.direction.next\")\n",
    "    end_page = driver.find_elements_by_css_selector(\"div.review_ta.ng-scope > div.paginate > a.direction.next.disabled\")\n",
    "    if end_page :\n",
    "        break;\n",
    "    next_page.click()\n",
    "    time.sleep(2)\n",
    "\n",
    "with open('C:/Temp/naverhotel.txt', 'wt', encoding='utf-8') as f:\n",
    "    for review in review_list:\n",
    "        f.write(str(review) + '\\n')\n",
    "        \n",
    "driver.quit()"
   ]
  }
 ],
 "metadata": {
  "kernelspec": {
   "display_name": "pydatavenv",
   "language": "python",
   "name": "pydatavenv"
  },
  "language_info": {
   "codemirror_mode": {
    "name": "ipython",
    "version": 3
   },
   "file_extension": ".py",
   "mimetype": "text/x-python",
   "name": "python",
   "nbconvert_exporter": "python",
   "pygments_lexer": "ipython3",
   "version": "3.8.3"
  }
 },
 "nbformat": 4,
 "nbformat_minor": 4
}
